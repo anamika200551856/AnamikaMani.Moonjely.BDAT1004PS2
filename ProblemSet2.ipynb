{
 "cells": [
  {
   "cell_type": "markdown",
   "id": "f93b96d4",
   "metadata": {},
   "source": [
    "## Problem Set 2"
   ]
  },
  {
   "cell_type": "markdown",
   "id": "0b48198d",
   "metadata": {},
   "source": [
    "## Q1"
   ]
  },
  {
   "cell_type": "code",
   "execution_count": 1,
   "id": "38ffd809",
   "metadata": {},
   "outputs": [],
   "source": [
    "a = 0\n",
    "def b():\n",
    "    global a\n",
    "    a = c(a)\n",
    "def c(a):\n",
    "    return a + 2\n"
   ]
  },
  {
   "cell_type": "code",
   "execution_count": 2,
   "id": "a462558b",
   "metadata": {},
   "outputs": [
    {
     "data": {
      "text/plain": [
       "6"
      ]
     },
     "execution_count": 2,
     "metadata": {},
     "output_type": "execute_result"
    }
   ],
   "source": [
    ">>> b()\n",
    ">>> b()\n",
    ">>> b()\n",
    ">>> a\n"
   ]
  },
  {
   "cell_type": "markdown",
   "id": "d689f093",
   "metadata": {},
   "source": [
    "## Q2"
   ]
  },
  {
   "cell_type": "code",
   "execution_count": 3,
   "id": "73643ced",
   "metadata": {},
   "outputs": [
    {
     "name": "stdout",
     "output_type": "stream",
     "text": [
      "w3c.txt =\n",
      "396\n",
      "File midterm.py not found.\n"
     ]
    }
   ],
   "source": [
    "def file_length(file_name):\n",
    "    try:\n",
    "        with open(file_name, 'r') as file:\n",
    "            contents = file.read()\n",
    "        print(len(contents))\n",
    "    except FileNotFoundError:\n",
    "        print(f\"File {file_name} not found.\")\n",
    "    except Exception as e:\n",
    "        print(f\"An error occurred: {e}\")\n",
    "\n",
    "print(\"w3c.txt =\")\n",
    "file_length('w3c (1).txt')\n",
    "file_length('midterm.py')\n",
    "\n",
    "\n"
   ]
  },
  {
   "cell_type": "markdown",
   "id": "daa0defe",
   "metadata": {},
   "source": [
    "## Q3"
   ]
  },
  {
   "cell_type": "code",
   "execution_count": 4,
   "id": "7345be8a",
   "metadata": {},
   "outputs": [],
   "source": [
    "class Marsupial:\n",
    "    def __init__(self):\n",
    "        self.pouch = []\n",
    "\n",
    "    def put_in_pouch(self, item):\n",
    "        self.pouch.append(item)\n",
    "\n",
    "    def pouch_contents(self):\n",
    "        return self.pouch\n"
   ]
  },
  {
   "cell_type": "code",
   "execution_count": 5,
   "id": "426d0d8d",
   "metadata": {},
   "outputs": [
    {
     "name": "stdout",
     "output_type": "stream",
     "text": [
      "['doll', 'firetruck', 'kitten']\n"
     ]
    }
   ],
   "source": [
    "m = Marsupial()\n",
    "m.put_in_pouch('doll')\n",
    "m.put_in_pouch('firetruck')\n",
    "m.put_in_pouch('kitten')\n",
    "print(m.pouch_contents())  \n"
   ]
  },
  {
   "cell_type": "code",
   "execution_count": 6,
   "id": "e753c413",
   "metadata": {},
   "outputs": [],
   "source": [
    "class Kangaroo(Marsupial):\n",
    "    def __init__(self, x, y):\n",
    "        super().__init__()\n",
    "        self.x = x\n",
    "        self.y = y\n",
    "\n",
    "    def jump(self, dx, dy):\n",
    "        self.x += dx\n",
    "        self.y += dy\n",
    "\n",
    "    def __str__(self):\n",
    "        return f\"I am a Kangaroo located at coordinates ({self.x},{self.y})\"\n"
   ]
  },
  {
   "cell_type": "code",
   "execution_count": 7,
   "id": "e8d72914",
   "metadata": {},
   "outputs": [
    {
     "name": "stdout",
     "output_type": "stream",
     "text": [
      "I am a Kangaroo located at coordinates (0,0)\n",
      "['doll', 'firetruck', 'kitten']\n",
      "I am a Kangaroo located at coordinates (3,0)\n"
     ]
    }
   ],
   "source": [
    "k = Kangaroo(0, 0)\n",
    "print(k) \n",
    "k.put_in_pouch('doll')\n",
    "k.put_in_pouch('firetruck')\n",
    "k.put_in_pouch('kitten')\n",
    "print(k.pouch_contents()) \n",
    "k.jump(1, 0)\n",
    "k.jump(1, 0)\n",
    "k.jump(1, 0)\n",
    "print(k) \n"
   ]
  },
  {
   "cell_type": "markdown",
   "id": "616dd27c",
   "metadata": {},
   "source": [
    "## Q4"
   ]
  },
  {
   "cell_type": "code",
   "execution_count": 8,
   "id": "db93cb8c",
   "metadata": {},
   "outputs": [],
   "source": [
    "def collatz(x):\n",
    "    print(x)\n",
    "    if x == 1:\n",
    "        return\n",
    "    elif x % 2 == 0:\n",
    "        collatz(x // 2)\n",
    "    else:\n",
    "        collatz(3 * x + 1)\n"
   ]
  },
  {
   "cell_type": "code",
   "execution_count": 9,
   "id": "b08db395",
   "metadata": {},
   "outputs": [
    {
     "name": "stdout",
     "output_type": "stream",
     "text": [
      "1\n"
     ]
    }
   ],
   "source": [
    "collatz(1)"
   ]
  },
  {
   "cell_type": "code",
   "execution_count": 10,
   "id": "158ddea1",
   "metadata": {},
   "outputs": [
    {
     "name": "stdout",
     "output_type": "stream",
     "text": [
      "10\n",
      "5\n",
      "16\n",
      "8\n",
      "4\n",
      "2\n",
      "1\n"
     ]
    }
   ],
   "source": [
    "collatz(10)\n",
    "\n"
   ]
  },
  {
   "cell_type": "markdown",
   "id": "41e15549",
   "metadata": {},
   "source": [
    "## Q5"
   ]
  },
  {
   "cell_type": "code",
   "execution_count": 11,
   "id": "a3c982f8",
   "metadata": {},
   "outputs": [],
   "source": [
    "def binary(n):\n",
    "    if n == 0:\n",
    "        print(0, end='')\n",
    "    elif n == 1:\n",
    "        print(1, end='')\n",
    "    else:\n",
    "        binary(n // 2)\n",
    "        print(n % 2, end='')\n"
   ]
  },
  {
   "cell_type": "code",
   "execution_count": 12,
   "id": "0b269583",
   "metadata": {},
   "outputs": [
    {
     "name": "stdout",
     "output_type": "stream",
     "text": [
      "Binary of 0 is \n",
      "0  \n",
      "Binary of 1 is \n",
      "1  \n",
      "Binary of 3 is \n",
      "11  \n",
      "Binary of 9 is \n",
      "1001"
     ]
    }
   ],
   "source": [
    "print(\"Binary of 0 is \")\n",
    "binary(0)\n",
    "print(\"  \")\n",
    "print(\"Binary of 1 is \")\n",
    "binary(1)\n",
    "print(\"  \")\n",
    "print(\"Binary of 3 is \")\n",
    "binary(3)\n",
    "print(\"  \")\n",
    "print(\"Binary of 9 is \")\n",
    "binary(9)\n"
   ]
  },
  {
   "cell_type": "markdown",
   "id": "1e1d8dd4",
   "metadata": {},
   "source": [
    "## Q6"
   ]
  },
  {
   "cell_type": "code",
   "execution_count": 13,
   "id": "3f7b9408",
   "metadata": {},
   "outputs": [
    {
     "name": "stdout",
     "output_type": "stream",
     "text": [
      "Conversion complete. HTML file 'w3c.html' has been created.\n"
     ]
    }
   ],
   "source": [
    "with open('w3c (1).txt', 'r') as infile:\n",
    "    lines = infile.readlines()\n",
    "\n",
    "html_content = '<html>\\n<body>\\n'\n",
    "for line in lines:\n",
    "    html_content += f'<h1>{line.strip()}</h1>\\n'\n",
    "html_content += '</body>\\n</html>'\n",
    "\n",
    "with open('w3c1.html', 'w') as outfile:\n",
    "    outfile.write(html_content)\n",
    "\n",
    "print(\"Conversion complete. HTML file 'w3c.html' has been created.\")\n"
   ]
  },
  {
   "cell_type": "code",
   "execution_count": 14,
   "id": "33c37b46",
   "metadata": {},
   "outputs": [],
   "source": [
    "from html.parser import HTMLParser\n",
    "\n",
    "class HeadingParser(HTMLParser):\n",
    "    def __init__(self):\n",
    "        super().__init__()\n",
    "        self.headings = []\n",
    "        self.current_tag = ''\n",
    "    \n",
    "    def handle_starttag(self, tag, attrs):\n",
    "        if tag in ['h1', 'h2', 'h3', 'h4', 'h5', 'h6']:\n",
    "            self.current_tag = tag\n",
    "    \n",
    "    def handle_endtag(self, tag):\n",
    "        if tag in ['h1', 'h2', 'h3', 'h4', 'h5', 'h6']:\n",
    "            self.current_tag = ''\n",
    "    \n",
    "    def handle_data(self, data):\n",
    "        if self.current_tag:\n",
    "            indent = int(self.current_tag[1]) - 1\n",
    "            self.headings.append(' ' * indent + data)\n",
    "    \n",
    "    def print_headings(self):\n",
    "        for heading in self.headings:\n",
    "            print(heading)\n"
   ]
  },
  {
   "cell_type": "code",
   "execution_count": 15,
   "id": "af841fe9",
   "metadata": {},
   "outputs": [
    {
     "name": "stdout",
     "output_type": "stream",
     "text": [
      "Change_me\n",
      "W3C Mission\n",
      " Principles\n"
     ]
    }
   ],
   "source": [
    "infile = open(\"w3c1.html\")\n",
    "content = infile.read()\n",
    "infile.close()\n",
    "hp = HeadingParser()\n",
    "hp.feed(content)\n",
    "hp.print_headings()\n"
   ]
  },
  {
   "cell_type": "markdown",
   "id": "02110417",
   "metadata": {},
   "source": [
    "## Q7"
   ]
  },
  {
   "cell_type": "code",
   "execution_count": 16,
   "id": "3e74a795",
   "metadata": {},
   "outputs": [
    {
     "name": "stdout",
     "output_type": "stream",
     "text": [
      "https://www.youtube.com\n",
      "  https://www.youtube.com/about/\n",
      "    https://www.youtube.com/howyoutubeworks/\n",
      "    https://www.youtube.com/creators/\n",
      "    https://www.youtube.com/trends/\n",
      "    https://blog.youtube/\n",
      "    https://twitter.com/YouTube\n",
      "  https://www.youtube.com/about/press/\n",
      "    https://blog.youtube/inside-youtube/work-diaries-on-the-ground-at-vidcon-with-julia-lee-harter/\n",
      "    https://blog.youtube/inside-youtube/\n",
      "    https://blog.youtube/creator-and-artist-stories/renes-top-five-june-28-2024/\n",
      "  https://www.youtube.com/about/copyright/\n",
      "    https://research.youtube\n",
      "    https://support.google.com/youtube/answer/3376882\n",
      "    https://support.google.com/youtube/answer/10623810\n",
      "    https://support.google.com/youtubecreatormusic\n",
      "    https://support.google.com/youtube/answer/9783148?hl=en\n",
      "  https://www.youtube.com/ads/\n",
      "    https://studio.youtube.com/channel/c/content/promotions\n",
      "    https://ads.google.com/signup\n"
     ]
    }
   ],
   "source": [
    "import requests\n",
    "from bs4 import BeautifulSoup\n",
    "\n",
    "def webdir(url, depth, indent, visited=None, max_links=5):\n",
    "    if visited is None:\n",
    "        visited = set()\n",
    "\n",
    "    if depth < 0 or url in visited:\n",
    "        return\n",
    "    \n",
    "    visited.add(url)\n",
    "    print(' ' * indent + url)\n",
    "    \n",
    "    try:\n",
    "        response = requests.get(url)\n",
    "        soup = BeautifulSoup(response.text, 'html.parser')\n",
    "        links = soup.find_all('a')\n",
    "        count = 0\n",
    "        for link in links:\n",
    "            href = link.get('href')\n",
    "            if href and href.startswith('http') and count < max_links:\n",
    "                count += 1\n",
    "                webdir(href, depth - 1, indent + 2, visited, max_links)\n",
    "    except requests.exceptions.RequestException as e:\n",
    "        print(f\"Error: {e}\")\n",
    "\n",
    "webdir('https://www.youtube.com', 2, 0)\n"
   ]
  },
  {
   "cell_type": "markdown",
   "id": "3b48a6a4",
   "metadata": {},
   "source": [
    "## Q8"
   ]
  },
  {
   "cell_type": "code",
   "execution_count": 17,
   "id": "a0fb5b03",
   "metadata": {},
   "outputs": [
    {
     "data": {
      "text/plain": [
       "<sqlite3.Cursor at 0x227e16eb1c0>"
      ]
     },
     "execution_count": 17,
     "metadata": {},
     "output_type": "execute_result"
    }
   ],
   "source": [
    "import sqlite3\n",
    "\n",
    "conn = sqlite3.connect('weather.db')\n",
    "cursor = conn.cursor()\n",
    "\n",
    "cursor.execute('''\n",
    "    CREATE TABLE IF NOT EXISTS Weather (\n",
    "        City TEXT,\n",
    "        Country TEXT,\n",
    "        Season TEXT,\n",
    "        Temperature REAL,\n",
    "        Rainfall REAL\n",
    "    )\n",
    "''')\n",
    "\n",
    "cursor.executemany('''\n",
    "    INSERT INTO Weather (City, Country, Season, Temperature, Rainfall) VALUES (?, ?, ?, ?, ?)\n",
    "''', [\n",
    "    ('Mumbai', 'India', 'Winter', 24.8, 5.9),\n",
    "    ('Mumbai', 'India', 'Spring', 28.4, 16.2),\n",
    "    ('Mumbai', 'India', 'Summer', 27.9, 1549.4),\n",
    "    ('Mumbai', 'India', 'Fall', 27.6, 346.0),\n",
    "    ('London', 'United Kingdom', 'Winter', 4.2, 207.7),\n",
    "    ('London', 'United Kingdom', 'Spring', 8.3, 169.6),\n",
    "    ('London', 'United Kingdom', 'Summer', 15.7, 157.0),\n",
    "    ('London', 'United Kingdom', 'Fall', 10.4, 218.5),\n",
    "    ('Cairo', 'Egypt', 'Winter', 13.6, 16.5),\n",
    "    ('Cairo', 'Egypt', 'Spring', 20.7, 6.5),\n",
    "    ('Cairo', 'Egypt', 'Summer', 27.7, 0.1),\n",
    "    ('Cairo', 'Egypt', 'Fall', 22.2, 4.5)\n",
    "])\n"
   ]
  },
  {
   "cell_type": "code",
   "execution_count": 18,
   "id": "9779e0db",
   "metadata": {},
   "outputs": [],
   "source": [
    "conn.commit()\n",
    "\n",
    "def run_query(query):\n",
    "    cursor.execute(query)\n",
    "    for row in cursor.fetchall():\n",
    "        print(row)\n"
   ]
  },
  {
   "cell_type": "code",
   "execution_count": 19,
   "id": "f89731da",
   "metadata": {},
   "outputs": [
    {
     "name": "stdout",
     "output_type": "stream",
     "text": [
      "All the temperature data:\n",
      "(24.8,)\n",
      "(28.4,)\n",
      "(27.9,)\n",
      "(27.6,)\n",
      "(4.2,)\n",
      "(8.3,)\n",
      "(15.7,)\n",
      "(10.4,)\n",
      "(13.6,)\n",
      "(20.7,)\n",
      "(27.7,)\n",
      "(22.2,)\n",
      "(24.8,)\n",
      "(28.4,)\n",
      "(27.9,)\n",
      "(27.6,)\n",
      "(4.2,)\n",
      "(8.3,)\n",
      "(15.7,)\n",
      "(10.4,)\n",
      "(13.6,)\n",
      "(20.7,)\n",
      "(27.7,)\n",
      "(22.2,)\n",
      "(24.8,)\n",
      "(28.4,)\n",
      "(27.9,)\n",
      "(27.6,)\n",
      "(4.2,)\n",
      "(8.3,)\n",
      "(15.7,)\n",
      "(10.4,)\n",
      "(13.6,)\n",
      "(20.7,)\n",
      "(27.7,)\n",
      "(22.2,)\n",
      "(24.8,)\n",
      "(28.4,)\n",
      "(27.9,)\n",
      "(27.6,)\n",
      "(4.2,)\n",
      "(8.3,)\n",
      "(15.7,)\n",
      "(10.4,)\n",
      "(13.6,)\n",
      "(20.7,)\n",
      "(27.7,)\n",
      "(22.2,)\n",
      "(24.8,)\n",
      "(28.4,)\n",
      "(27.9,)\n",
      "(27.6,)\n",
      "(4.2,)\n",
      "(8.3,)\n",
      "(15.7,)\n",
      "(10.4,)\n",
      "(13.6,)\n",
      "(20.7,)\n",
      "(27.7,)\n",
      "(22.2,)\n",
      "(24.8,)\n",
      "(28.4,)\n",
      "(27.9,)\n",
      "(27.6,)\n",
      "(4.2,)\n",
      "(8.3,)\n",
      "(15.7,)\n",
      "(10.4,)\n",
      "(13.6,)\n",
      "(20.7,)\n",
      "(27.7,)\n",
      "(22.2,)\n"
     ]
    }
   ],
   "source": [
    "print(\"All the temperature data:\")\n",
    "run_query(\"SELECT Temperature FROM Weather\")\n"
   ]
  },
  {
   "cell_type": "code",
   "execution_count": 20,
   "id": "599ebdc2",
   "metadata": {},
   "outputs": [
    {
     "name": "stdout",
     "output_type": "stream",
     "text": [
      "\n",
      "All the cities, but without repetition:\n",
      "('Mumbai',)\n",
      "('London',)\n",
      "('Cairo',)\n"
     ]
    }
   ],
   "source": [
    "print(\"\\nAll the cities, but without repetition:\")\n",
    "run_query(\"SELECT DISTINCT City FROM Weather\")\n"
   ]
  },
  {
   "cell_type": "code",
   "execution_count": 21,
   "id": "a69c7205",
   "metadata": {},
   "outputs": [
    {
     "name": "stdout",
     "output_type": "stream",
     "text": [
      "\n",
      "All the records for India:\n",
      "('Mumbai', 'India', 'Winter', 24.8, 5.9)\n",
      "('Mumbai', 'India', 'Spring', 28.4, 16.2)\n",
      "('Mumbai', 'India', 'Summer', 27.9, 1549.4)\n",
      "('Mumbai', 'India', 'Fall', 27.6, 346.0)\n",
      "('Mumbai', 'India', 'Winter', 24.8, 5.9)\n",
      "('Mumbai', 'India', 'Spring', 28.4, 16.2)\n",
      "('Mumbai', 'India', 'Summer', 27.9, 1549.4)\n",
      "('Mumbai', 'India', 'Fall', 27.6, 346.0)\n",
      "('Mumbai', 'India', 'Winter', 24.8, 5.9)\n",
      "('Mumbai', 'India', 'Spring', 28.4, 16.2)\n",
      "('Mumbai', 'India', 'Summer', 27.9, 1549.4)\n",
      "('Mumbai', 'India', 'Fall', 27.6, 346.0)\n",
      "('Mumbai', 'India', 'Winter', 24.8, 5.9)\n",
      "('Mumbai', 'India', 'Spring', 28.4, 16.2)\n",
      "('Mumbai', 'India', 'Summer', 27.9, 1549.4)\n",
      "('Mumbai', 'India', 'Fall', 27.6, 346.0)\n",
      "('Mumbai', 'India', 'Winter', 24.8, 5.9)\n",
      "('Mumbai', 'India', 'Spring', 28.4, 16.2)\n",
      "('Mumbai', 'India', 'Summer', 27.9, 1549.4)\n",
      "('Mumbai', 'India', 'Fall', 27.6, 346.0)\n",
      "('Mumbai', 'India', 'Winter', 24.8, 5.9)\n",
      "('Mumbai', 'India', 'Spring', 28.4, 16.2)\n",
      "('Mumbai', 'India', 'Summer', 27.9, 1549.4)\n",
      "('Mumbai', 'India', 'Fall', 27.6, 346.0)\n"
     ]
    }
   ],
   "source": [
    "print(\"\\nAll the records for India:\")\n",
    "run_query(\"SELECT * FROM Weather WHERE Country = 'India'\")\n"
   ]
  },
  {
   "cell_type": "code",
   "execution_count": 22,
   "id": "98435b68",
   "metadata": {},
   "outputs": [
    {
     "name": "stdout",
     "output_type": "stream",
     "text": [
      "\n",
      "All the Fall records:\n",
      "('Mumbai', 'India', 'Fall', 27.6, 346.0)\n",
      "('London', 'United Kingdom', 'Fall', 10.4, 218.5)\n",
      "('Cairo', 'Egypt', 'Fall', 22.2, 4.5)\n",
      "('Mumbai', 'India', 'Fall', 27.6, 346.0)\n",
      "('London', 'United Kingdom', 'Fall', 10.4, 218.5)\n",
      "('Cairo', 'Egypt', 'Fall', 22.2, 4.5)\n",
      "('Mumbai', 'India', 'Fall', 27.6, 346.0)\n",
      "('London', 'United Kingdom', 'Fall', 10.4, 218.5)\n",
      "('Cairo', 'Egypt', 'Fall', 22.2, 4.5)\n",
      "('Mumbai', 'India', 'Fall', 27.6, 346.0)\n",
      "('London', 'United Kingdom', 'Fall', 10.4, 218.5)\n",
      "('Cairo', 'Egypt', 'Fall', 22.2, 4.5)\n",
      "('Mumbai', 'India', 'Fall', 27.6, 346.0)\n",
      "('London', 'United Kingdom', 'Fall', 10.4, 218.5)\n",
      "('Cairo', 'Egypt', 'Fall', 22.2, 4.5)\n",
      "('Mumbai', 'India', 'Fall', 27.6, 346.0)\n",
      "('London', 'United Kingdom', 'Fall', 10.4, 218.5)\n",
      "('Cairo', 'Egypt', 'Fall', 22.2, 4.5)\n"
     ]
    }
   ],
   "source": [
    "print(\"\\nAll the Fall records:\")\n",
    "run_query(\"SELECT * FROM Weather WHERE Season = 'Fall'\")\n"
   ]
  },
  {
   "cell_type": "code",
   "execution_count": 23,
   "id": "2bd55e36",
   "metadata": {},
   "outputs": [
    {
     "name": "stdout",
     "output_type": "stream",
     "text": [
      "\n",
      "The city, country, and season for which the average rainfall is between 200 and 400 millimeters:\n",
      "('London', 'United Kingdom', 'Fall')\n",
      "('London', 'United Kingdom', 'Winter')\n",
      "('Mumbai', 'India', 'Fall')\n"
     ]
    }
   ],
   "source": [
    "print(\"\\nThe city, country, and season for which the average rainfall is between 200 and 400 millimeters:\")\n",
    "run_query(\"\"\"\n",
    "    SELECT City, Country, Season \n",
    "    FROM Weather \n",
    "    GROUP BY City, Country, Season \n",
    "    HAVING AVG(Rainfall) BETWEEN 200 AND 400\n",
    "\"\"\")\n"
   ]
  },
  {
   "cell_type": "code",
   "execution_count": 24,
   "id": "9e5f99ef",
   "metadata": {},
   "outputs": [
    {
     "name": "stdout",
     "output_type": "stream",
     "text": [
      "\n",
      "The city and country for which the average Fall temperature is above 20 degrees, in increasing temperature order:\n",
      "('Cairo', 'Egypt')\n",
      "('Mumbai', 'India')\n"
     ]
    }
   ],
   "source": [
    "print(\"\\nThe city and country for which the average Fall temperature is above 20 degrees, in increasing temperature order:\")\n",
    "run_query(\"\"\"\n",
    "    SELECT City, Country \n",
    "    FROM Weather \n",
    "    WHERE Season = 'Fall' \n",
    "    GROUP BY City, Country \n",
    "    HAVING AVG(Temperature) > 20 \n",
    "    ORDER BY AVG(Temperature)\n",
    "\"\"\")\n"
   ]
  },
  {
   "cell_type": "code",
   "execution_count": 25,
   "id": "4160ffdd",
   "metadata": {},
   "outputs": [
    {
     "name": "stdout",
     "output_type": "stream",
     "text": [
      "\n",
      "The total annual rainfall for Cairo:\n",
      "(165.59999999999997,)\n"
     ]
    }
   ],
   "source": [
    "print(\"\\nThe total annual rainfall for Cairo:\")\n",
    "run_query(\"SELECT SUM(Rainfall) AS TotalAnnualRainfall FROM Weather WHERE City = 'Cairo'\")\n"
   ]
  },
  {
   "cell_type": "code",
   "execution_count": 26,
   "id": "e06200af",
   "metadata": {},
   "outputs": [
    {
     "name": "stdout",
     "output_type": "stream",
     "text": [
      "\n",
      "The total rainfall for each season:\n",
      "('Fall', 3414.0)\n",
      "('Spring', 1153.8000000000002)\n",
      "('Summer', 10239.0)\n",
      "('Winter', 1380.6)\n"
     ]
    }
   ],
   "source": [
    "print(\"\\nThe total rainfall for each season:\")\n",
    "run_query(\"SELECT Season, SUM(Rainfall) AS TotalRainfall FROM Weather GROUP BY Season\")\n"
   ]
  },
  {
   "cell_type": "code",
   "execution_count": 27,
   "id": "97192850",
   "metadata": {},
   "outputs": [],
   "source": [
    "conn.close()\n"
   ]
  },
  {
   "cell_type": "markdown",
   "id": "90a11084",
   "metadata": {},
   "source": [
    "## Q9"
   ]
  },
  {
   "cell_type": "code",
   "execution_count": 28,
   "id": "a5a60fa2",
   "metadata": {},
   "outputs": [
    {
     "name": "stdout",
     "output_type": "stream",
     "text": [
      "['THE', 'QUICK', 'BROWN', 'FOX', 'JUMPS', 'OVER', 'THE', 'LAZY', 'DOG']\n"
     ]
    }
   ],
   "source": [
    "words = ['The', 'quick', 'brown', 'fox', 'jumps', 'over', 'the', 'lazy', 'dog']\n",
    "uppercase_words = [word.upper() for word in words]\n",
    "print(uppercase_words)\n"
   ]
  },
  {
   "cell_type": "code",
   "execution_count": 29,
   "id": "2a796272",
   "metadata": {},
   "outputs": [
    {
     "name": "stdout",
     "output_type": "stream",
     "text": [
      "['the', 'quick', 'brown', 'fox', 'jumps', 'over', 'the', 'lazy', 'dog']\n"
     ]
    }
   ],
   "source": [
    "lowercase_words = [word.lower() for word in words]\n",
    "print(lowercase_words)\n",
    "\n"
   ]
  },
  {
   "cell_type": "code",
   "execution_count": 30,
   "id": "299f7c87",
   "metadata": {},
   "outputs": [
    {
     "name": "stdout",
     "output_type": "stream",
     "text": [
      "[3, 5, 5, 3, 5, 4, 3, 4, 3]\n"
     ]
    }
   ],
   "source": [
    "word_lengths = [len(word) for word in words]\n",
    "print(word_lengths)\n"
   ]
  },
  {
   "cell_type": "code",
   "execution_count": 31,
   "id": "ff19d10a",
   "metadata": {},
   "outputs": [
    {
     "name": "stdout",
     "output_type": "stream",
     "text": [
      "[['THE', 'the', 3], ['QUICK', 'quick', 5], ['BROWN', 'brown', 5], ['FOX', 'fox', 3], ['JUMPS', 'jumps', 5], ['OVER', 'over', 4], ['THE', 'the', 3], ['LAZY', 'lazy', 4], ['DOG', 'dog', 3]]\n"
     ]
    }
   ],
   "source": [
    "word_details = [[word.upper(), word.lower(), len(word)] for word in words]\n",
    "print(word_details)\n"
   ]
  },
  {
   "cell_type": "code",
   "execution_count": 32,
   "id": "096a1a60",
   "metadata": {},
   "outputs": [
    {
     "name": "stdout",
     "output_type": "stream",
     "text": [
      "['quick', 'brown', 'jumps', 'over', 'lazy']\n"
     ]
    }
   ],
   "source": [
    "words_with_4_or_more_chars = [word for word in words if len(word) >= 4]\n",
    "print(words_with_4_or_more_chars)\n"
   ]
  },
  {
   "cell_type": "code",
   "execution_count": null,
   "id": "8b6042b1",
   "metadata": {},
   "outputs": [],
   "source": []
  },
  {
   "cell_type": "code",
   "execution_count": null,
   "id": "5d38190e",
   "metadata": {},
   "outputs": [],
   "source": []
  }
 ],
 "metadata": {
  "kernelspec": {
   "display_name": "Python 3 (ipykernel)",
   "language": "python",
   "name": "python3"
  },
  "language_info": {
   "codemirror_mode": {
    "name": "ipython",
    "version": 3
   },
   "file_extension": ".py",
   "mimetype": "text/x-python",
   "name": "python",
   "nbconvert_exporter": "python",
   "pygments_lexer": "ipython3",
   "version": "3.10.9"
  }
 },
 "nbformat": 4,
 "nbformat_minor": 5
}
